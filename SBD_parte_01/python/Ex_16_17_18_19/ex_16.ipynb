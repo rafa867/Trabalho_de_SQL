{
 "cells": [
  {
   "cell_type": "markdown",
   "id": "73598bb9",
   "metadata": {},
   "source": [
    "# Rafael Santos - 118336 - Ex: 16, 17, 18 e 19"
   ]
  },
  {
   "cell_type": "markdown",
   "id": "43e2e46e",
   "metadata": {},
   "source": [
    "### 16.1 - Obter dados do gene com ID 593"
   ]
  },
  {
   "cell_type": "code",
   "execution_count": 1,
   "id": "9a340467",
   "metadata": {},
   "outputs": [],
   "source": [
    "# Importar a biblioteca necessária para fazer requisições HTTP\n",
    "import requests"
   ]
  },
  {
   "cell_type": "code",
   "execution_count": 2,
   "id": "c91ed5d1",
   "metadata": {},
   "outputs": [],
   "source": [
    "# URL da API para obter informações sobre o gene com ID 593\n",
    "url = \"https://mygene.info/v3/gene/593\"\n",
    "\n",
    "# Fazer uma requisição GET à API\n",
    "response = requests.get(url)"
   ]
  },
  {
   "cell_type": "code",
   "execution_count": 3,
   "id": "bf3d2d4f",
   "metadata": {},
   "outputs": [
    {
     "name": "stdout",
     "output_type": "stream",
     "text": [
      " Dados do gene 593:\n",
      "Symbol: BCKDHA\n",
      "Name: branched chain keto acid dehydrogenase E1 subunit alpha\n",
      "Summary: The branched-chain alpha-keto acid (BCAA) dehydrogenase (BCKD) complex is an innter mitochondrial enzyme complex that catalyzes the second major step in the catabolism of the branched-chain amino acids leucine, isoleucine, and valine. The BCKD complex consists of three catalytic components: a heterotetrameric (alpha2-beta2) branched-chain alpha-keto acid decarboxylase (E1), a dihydrolipoyl transacylase (E2), and a dihydrolipoamide dehydrogenase (E3). This gene encodes the alpha subunit of the decarboxylase (E1) component. Mutations in this gene result in maple syrup urine disease, type IA. Multiple transcript variants encoding different isoforms have been found for this gene.[provided by RefSeq, Sep 2009].\n"
     ]
    }
   ],
   "source": [
    "# Verificar se a resposta foi bem-sucedida (status code 200)\n",
    "if response.status_code == 200:\n",
    "    # Converter a resposta para formato JSON\n",
    "    data = response.json()\n",
    "\n",
    "    # Mostrar os principais campos de interesse do gene\n",
    "    print(\" Dados do gene 593:\")\n",
    "    print(f\"Symbol: {data.get('symbol')}\")      # Símbolo do gene\n",
    "    print(f\"Name: {data.get('name')}\")          # Nome completo\n",
    "    print(f\"Summary: {data.get('summary', 'N/A')}\")  # Resumo (se existir)\n",
    "\n",
    "else:\n",
    "    # Mostrar mensagem de erro se a resposta não for 200\n",
    "    print(\" Erro ao aceder à API:\", response.status_code)"
   ]
  },
  {
   "cell_type": "markdown",
   "id": "a05cf722",
   "metadata": {},
   "source": [
    "### 16.2 - Busca de informações genéticas relacionadas ao símbolo genético BRCA1"
   ]
  },
  {
   "cell_type": "code",
   "execution_count": 4,
   "id": "2ce45fe6",
   "metadata": {},
   "outputs": [],
   "source": [
    "# URL da API com a query para procurar o gene com símbolo BRCA1\n",
    "url = \"https://mygene.info/v3/query?q=symbol:BRCA1\"\n",
    "\n",
    "# Fazer uma requisição GET à API\n",
    "response = requests.get(url)"
   ]
  },
  {
   "cell_type": "code",
   "execution_count": 5,
   "id": "c6a0ebf7",
   "metadata": {},
   "outputs": [
    {
     "name": "stdout",
     "output_type": "stream",
     "text": [
      " Informação sobre o gene BRCA1:\n",
      "Symbol: BRCA1\n",
      "Name: BRCA1 DNA repair associated\n",
      "Entrez Gene ID: 672\n",
      "Organism: 9606\n",
      "Summary: Sem resumo disponível.\n"
     ]
    }
   ],
   "source": [
    "# Verificar se a resposta foi bem-sucedida (status code 200)\n",
    "if response.status_code == 200:\n",
    "    # Converter a resposta para formato JSON\n",
    "    data = response.json()\n",
    "\n",
    "    # Verificar se vieram resultados\n",
    "    hits = data.get(\"hits\", [])\n",
    "    \n",
    "    if hits:\n",
    "        # Mostrar o primeiro resultado da pesquisa\n",
    "        gene = hits[0]  # Pega o primeiro registo da lista\n",
    "\n",
    "        print(\" Informação sobre o gene BRCA1:\")\n",
    "        print(f\"Symbol: {gene.get('symbol')}\")\n",
    "        print(f\"Name: {gene.get('name')}\")\n",
    "        print(f\"Entrez Gene ID: {gene.get('_id')}\")\n",
    "        print(f\"Organism: {gene.get('taxid', 'N/A')}\")  # taxid = ID do organismo\n",
    "        print(f\"Summary: {gene.get('summary', 'Sem resumo disponível.')}\")\n",
    "    else:\n",
    "        print(\" Nenhum resultado encontrado para o símbolo BRCA1.\")\n",
    "\n",
    "else:\n",
    "    # Mostrar erro se o pedido não for bem-sucedido\n",
    "    print(\" Erro ao aceder à API:\", response.status_code)"
   ]
  },
  {
   "cell_type": "markdown",
   "id": "cf7c8aa0",
   "metadata": {},
   "source": [
    "### 16.3 - Escreva uma URL para recuperar as informações dos genes com as palavras tumor e supressor em qualquer atributo"
   ]
  },
  {
   "cell_type": "code",
   "execution_count": 6,
   "id": "6aa6049b",
   "metadata": {},
   "outputs": [],
   "source": [
    "# URL da API com os termos de pesquisa: \"tumor\" AND \"suppressor\"\n",
    "url = \"https://mygene.info/v3/query?q=tumor+AND+suppressor\"\n",
    "\n",
    "# Fazer uma requisição GET à API\n",
    "response = requests.get(url)"
   ]
  },
  {
   "cell_type": "code",
   "execution_count": 7,
   "id": "4f1e582e",
   "metadata": {},
   "outputs": [
    {
     "name": "stdout",
     "output_type": "stream",
     "text": [
      " Genes que contêm 'tumor' e 'suppressor':\n",
      "\n",
      "Symbol: LNCPTCTS\n",
      "Name: lncRNA papillary thyroid carcinoma tumor suppressor\n",
      "Summary: Sem resumo disponível.\n",
      "--------------------------------------------------\n",
      "Symbol: LOC282551\n",
      "Name: Insulinoma tumor suppressor gene locus\n",
      "Summary: Sem resumo disponível.\n",
      "--------------------------------------------------\n",
      "Symbol: TSG11\n",
      "Name: Tumor suppressor gene on chromosome 11\n",
      "Summary: Sem resumo disponível.\n",
      "--------------------------------------------------\n",
      "Symbol: LNCPTCTS\n",
      "Name: lncRNA papillary thyroid carcinoma tumor suppressor\n",
      "Summary: Sem resumo disponível.\n",
      "--------------------------------------------------\n",
      "Symbol: MLRL\n",
      "Name: Myeloid leukemia-related gene (myeloid tumor suppressor)\n",
      "Summary: Sem resumo disponível.\n",
      "--------------------------------------------------\n"
     ]
    }
   ],
   "source": [
    "# Verificar se a resposta foi bem-sucedida (status code 200)\n",
    "if response.status_code == 200:\n",
    "    # Converter a resposta para JSON\n",
    "    data = response.json()\n",
    "\n",
    "    # Obter os resultados (lista de genes)\n",
    "    hits = data.get(\"hits\", [])\n",
    "\n",
    "    # Mostrar até 5 resultados (por exemplo)\n",
    "    print(\" Genes que contêm 'tumor' e 'suppressor':\\n\")\n",
    "    for gene in hits[:5]:\n",
    "        print(f\"Symbol: {gene.get('symbol', 'N/A')}\")\n",
    "        print(f\"Name: {gene.get('name', 'N/A')}\")\n",
    "        print(f\"Summary: {gene.get('summary', 'Sem resumo disponível.')}\")\n",
    "        print(\"-\" * 50)\n",
    "\n",
    "else:\n",
    "    print(\" Erro ao aceder à API:\", response.status_code)"
   ]
  },
  {
   "cell_type": "markdown",
   "id": "c1c41742",
   "metadata": {},
   "source": [
    "### 17 - Escreva uma função em Python para exibir o resultado de solicitações como em 16.2 no seguinte formato"
   ]
  },
  {
   "cell_type": "code",
   "execution_count": 15,
   "id": "4b64a57e",
   "metadata": {},
   "outputs": [],
   "source": [
    "# URL da API com a query para pesquisar pelo símbolo BRCA1\n",
    "url = \"https://mygene.info/v3/query?q=symbol:BRCA1\"\n",
    "\n",
    "# Fazer a requisição GET à API\n",
    "response = requests.get(url)"
   ]
  },
  {
   "cell_type": "code",
   "execution_count": 16,
   "id": "590a5400",
   "metadata": {},
   "outputs": [],
   "source": [
    "def mostrar_resultados_formatados(data):\n",
    "    \"\"\"\n",
    "    Esta função formata e apresenta os resultados da API MyGene\n",
    "    com alinhamento igual ao exemplo do enunciado:\n",
    "    - GeneID e Entrezgene alinhados à direita\n",
    "    - Score alinhado à esquerda no cabeçalho e centrado nos valores\n",
    "    \"\"\"\n",
    "\n",
    "    total = data.get('total', 0)\n",
    "    hits = data.get('hits', [])\n",
    "\n",
    "    # Cabeçalho com contagem de resultados\n",
    "    print(f\"\\nInfo for (id: {len(hits)} total: {total}):\\n\")\n",
    "\n",
    "    # Cabeçalho da tabela com alinhamento personalizado\n",
    "    print(f\"{'GeneID':>10} {'Score':<25} {'Entrezgene':>15}\")\n",
    "    print(\"-\" * 55)\n",
    "\n",
    "    # Mostrar os primeiros 4 resultados\n",
    "    for hit in hits[:4]:\n",
    "        gene_id = str(hit.get('_id', 'N/A'))\n",
    "        score = hit.get('_score', 0.0)\n",
    "        taxid = hit.get('taxid', 'N/A')\n",
    "        entrezgene = str(hit.get('entrezgene', 'N/A'))\n",
    "\n",
    "        # Formatamos cada valor com largura fixa\n",
    "        score_fmt = f\"({score:10.6f}, {str(taxid):>5},  8)\"\n",
    "\n",
    "        print(f\"{gene_id:>10} {score_fmt:<25} {entrezgene:>15}\")\n",
    "\n",
    "\n",
    "    # Rodapé\n",
    "    print(f\"{'...':>10} {'...':^25} {'...':>15}\\n\")"
   ]
  },
  {
   "cell_type": "code",
   "execution_count": 17,
   "id": "375b00ad",
   "metadata": {},
   "outputs": [
    {
     "name": "stdout",
     "output_type": "stream",
     "text": [
      "\n",
      "Info for (id: 10 total: 531):\n",
      "\n",
      "    GeneID Score                          Entrezgene\n",
      "-------------------------------------------------------\n",
      "       672 ( 18.103941,  9606,  8)               672\n",
      "     12189 ( 15.183950, 10090,  8)             12189\n",
      "    497672 ( 12.847959, 10116,  8)            497672\n",
      " 103821581 ( 11.679962,  9135,  8)         103821581\n",
      "       ...            ...                        ...\n",
      "\n"
     ]
    }
   ],
   "source": [
    "# Verificar se a resposta foi bem-sucedida\n",
    "if response.status_code == 200:\n",
    "    # Converter a resposta em JSON\n",
    "    data = response.json()\n",
    "\n",
    "    # Chamar a função que formata e imprime os dados\n",
    "    mostrar_resultados_formatados(data)\n",
    "\n",
    "else:\n",
    "    print(\" Erro ao aceder à API:\", response.status_code)"
   ]
  },
  {
   "cell_type": "markdown",
   "id": "9ecce7ba",
   "metadata": {},
   "source": [
    "### 18 - Escreva uma função Python para recuperar (de Mygene.info) e listar o símbolo, nome, resumo, p_li e genomic_loc dos genes em um formato de fácil leitura."
   ]
  },
  {
   "cell_type": "code",
   "execution_count": 18,
   "id": "052175e2",
   "metadata": {},
   "outputs": [],
   "source": [
    "def detalhes_gene(gene_ids):\n",
    "    \"\"\"\n",
    "    Esta função recebe uma lista de geneIDs e, para cada um deles,\n",
    "    faz uma requisição à API MyGene.info para obter:\n",
    "    - symbol\n",
    "    - name\n",
    "    - summary\n",
    "    - p_li\n",
    "    - genomic_loc\n",
    "\n",
    "    Os dados são mostrados de forma clara e legível.\n",
    "    \"\"\"\n",
    "    for gene_id in gene_ids:\n",
    "        print(f\"\\n Detalhes do gene ID: {gene_id}\")\n",
    "        url = f\"https://mygene.info/v3/gene/{gene_id}\"\n",
    "        response = requests.get(url)\n",
    "\n",
    "        if response.status_code == 200:\n",
    "            data = response.json()\n",
    "\n",
    "            symbol = data.get(\"symbol\", \"N/A\")\n",
    "            name = data.get(\"name\", \"N/A\")\n",
    "            summary = data.get(\"summary\", \"Sem resumo disponível.\")\n",
    "            p_li = data.get(\"pLI\", \"N/A\")\n",
    "            genomic_loc = data.get(\"genomic_pos\", {})\n",
    "\n",
    "            # Tratar posição genómica\n",
    "            if isinstance(genomic_loc, list) and genomic_loc:\n",
    "                loc = genomic_loc[0]\n",
    "            elif isinstance(genomic_loc, dict):\n",
    "                loc = genomic_loc\n",
    "            else:\n",
    "                loc = {}\n",
    "\n",
    "            loc_str = f\"{loc.get('chr', '?')}:{loc.get('start', '?')}–{loc.get('end', '?')}\" if loc else \"N/A\"\n",
    "\n",
    "            # Imprimir informação formatada\n",
    "            print(f\"   Symbol       : {symbol}\")\n",
    "            print(f\"   Name         : {name}\")\n",
    "            print(f\"   Summary      : {summary}\")\n",
    "            print(f\"   pLI          : {p_li}\")\n",
    "            print(f\"   Genomic Loc  : {loc_str}\")\n",
    "\n",
    "        else:\n",
    "            print(f\" Erro ao obter o gene {gene_id} (status {response.status_code})\")"
   ]
  },
  {
   "cell_type": "code",
   "execution_count": 19,
   "id": "66379f03",
   "metadata": {},
   "outputs": [
    {
     "name": "stdout",
     "output_type": "stream",
     "text": [
      "\n",
      " Detalhes do gene ID: 672\n",
      "   Symbol       : BRCA1\n",
      "   Name         : BRCA1 DNA repair associated\n",
      "   Summary      : This gene encodes a 190 kD nuclear phosphoprotein that plays a role in maintaining genomic stability, and it also acts as a tumor suppressor. The BRCA1 gene contains 22 exons spanning about 110 kb of DNA. The encoded protein combines with other tumor suppressors, DNA damage sensors, and signal transducers to form a large multi-subunit protein complex known as the BRCA1-associated genome surveillance complex (BASC). This gene product associates with RNA polymerase II, and through the C-terminal domain, also interacts with histone deacetylase complexes. This protein thus plays a role in transcription, DNA repair of double-stranded breaks, and recombination. Mutations in this gene are responsible for approximately 40% of inherited breast cancers and more than 80% of inherited breast and ovarian cancers. Alternative splicing plays a role in modulating the subcellular localization and physiological function of this gene. Many alternatively spliced transcript variants, some of which are disease-associated mutations, have been described for this gene, but the full-length natures of only some of these variants has been described. A related pseudogene, which is also located on chromosome 17, has been identified. [provided by RefSeq, May 2020].\n",
      "   pLI          : N/A\n",
      "   Genomic Loc  : 17:43044295–43170245\n",
      "\n",
      " Detalhes do gene ID: 12189\n",
      "   Symbol       : Brca1\n",
      "   Name         : breast cancer 1, early onset\n",
      "   Summary      : Sem resumo disponível.\n",
      "   pLI          : N/A\n",
      "   Genomic Loc  : 11:101379590–101442781\n",
      "\n",
      " Detalhes do gene ID: 497672\n",
      "   Symbol       : Brca1\n",
      "   Name         : BRCA1, DNA repair associated\n",
      "   Summary      : Sem resumo disponível.\n",
      "   pLI          : N/A\n",
      "   Genomic Loc  : 10:86418000–86477304\n",
      "\n",
      " Detalhes do gene ID: 103821581\n",
      "   Symbol       : BRCA1\n",
      "   Name         : BRCA1 DNA repair associated\n",
      "   Summary      : Sem resumo disponível.\n",
      "   pLI          : N/A\n",
      "   Genomic Loc  : HG009251.1:631850–652858\n"
     ]
    }
   ],
   "source": [
    "# IDs que obtiveste na questão 17\n",
    "lista_ids = [672, 12189, 497672, 103821581]\n",
    "\n",
    "# Chamada da função\n",
    "detalhes_gene(lista_ids)"
   ]
  },
  {
   "cell_type": "markdown",
   "id": "1a82b94c",
   "metadata": {},
   "source": [
    "### 19 - Obtenha os dados (símbolo, nome, resumo e p_li) de 15 a 20 genes e insira-os na tabela geneAttributes"
   ]
  },
  {
   "cell_type": "code",
   "execution_count": 20,
   "id": "52fbd711",
   "metadata": {},
   "outputs": [
    {
     "name": "stdout",
     "output_type": "stream",
     "text": [
      "\n",
      " 15 genes encontrados:\n",
      "\n",
      " 1. ID: 1791       Symbol: DNTT       Name: DNA nucleotidylexotransferase\n",
      " 2. ID: 1786       Symbol: DNMT1      Name: DNA methyltransferase 1\n",
      " 3. ID: 4595       Symbol: MUTYH      Name: mutY DNA glycosylase\n",
      " 4. ID: 5423       Symbol: POLB       Name: DNA polymerase beta\n",
      " 5. ID: 353497     Symbol: POLN       Name: DNA polymerase nu\n",
      " 6. ID: 3981       Symbol: LIG4       Name: DNA ligase 4\n",
      " 7. ID: 6996       Symbol: TDG        Name: thymine DNA glycosylase\n",
      " 8. ID: 51426      Symbol: POLK       Name: DNA polymerase kappa\n",
      " 9. ID: 5429       Symbol: POLH       Name: DNA polymerase eta\n",
      "10. ID: 7150       Symbol: TOP1       Name: DNA topoisomerase I\n",
      "11. ID: 10721      Symbol: POLQ       Name: DNA polymerase theta\n",
      "12. ID: 11201      Symbol: POLI       Name: DNA polymerase iota\n",
      "13. ID: 92797      Symbol: HELB       Name: DNA helicase B\n",
      "14. ID: 7374       Symbol: UNG        Name: uracil DNA glycosylase\n",
      "15. ID: 27434      Symbol: POLM       Name: DNA polymerase mu\n"
     ]
    }
   ],
   "source": [
    "# Visualizar 15 genes da API\n",
    "\n",
    "# Define a URL da API com uma query para procurar genes relacionados à palavra \"DNA\"\n",
    "# 'size=15' limita os resultados a 15 genes\n",
    "query_url = \"https://mygene.info/v3/query?q=DNA&size=15\"\n",
    "\n",
    "# Faz a requisição GET à API\n",
    "response = requests.get(query_url)\n",
    "\n",
    "# Lista onde serão guardados os geneIDs que queremos inserir mais tarde\n",
    "gene_ids = []\n",
    "\n",
    "# Verifica se a resposta foi bem-sucedida (HTTP 200)\n",
    "if response.status_code == 200:\n",
    "    data = response.json()            # Converte a resposta JSON em dicionário\n",
    "    hits = data.get(\"hits\", [])       # Extrai a lista de genes encontrados\n",
    "\n",
    "    print(f\"\\n {len(hits)} genes encontrados:\\n\")\n",
    "\n",
    "    # Itera sobre os genes retornados e mostra os campos relevantes\n",
    "    for i, hit in enumerate(hits, 1):\n",
    "        gene_id = hit.get(\"_id\")                  # ID numérico do gene\n",
    "        symbol = hit.get(\"symbol\", \"N/A\")         # Símbolo (ex: BRCA1)\n",
    "        name = hit.get(\"name\", \"N/A\")             # Nome do gene\n",
    "\n",
    "        # Imprime os dados de forma legível\n",
    "        print(f\"{i:>2}. ID: {gene_id:<10} Symbol: {symbol:<10} Name: {name}\")\n",
    "\n",
    "        # Adiciona o gene ID à lista, convertendo para inteiro\n",
    "        if gene_id is not None:\n",
    "            gene_ids.append(int(gene_id))\n",
    "else:\n",
    "    # Se a resposta não for 200, imprime o código de erro\n",
    "    print(\" Erro ao buscar genes:\", response.status_code)"
   ]
  },
  {
   "cell_type": "code",
   "execution_count": 21,
   "id": "bc87c65e",
   "metadata": {},
   "outputs": [],
   "source": [
    "# Conexão à base de dados SQL Server\n",
    "import pyodbc\n",
    "conn = pyodbc.connect(\n",
    "    'DRIVER={SQL Server};'\n",
    "    'SERVER=deti-sql-aulas.ua.pt;'\n",
    "    'DATABASE=sbd24_118336;'\n",
    "    'UID=sbd24_118336;'\n",
    "    'PWD=pascoa'\n",
    ")\n",
    "cursor = conn.cursor()"
   ]
  },
  {
   "cell_type": "code",
   "execution_count": 23,
   "id": "b781fc91",
   "metadata": {},
   "outputs": [
    {
     "name": "stdout",
     "output_type": "stream",
     "text": [
      " Inserido: DNTT (ID: 1791)\n",
      " Inserido: DNMT1 (ID: 1786)\n",
      " Inserido: MUTYH (ID: 4595)\n",
      " Inserido: POLB (ID: 5423)\n",
      " Inserido: POLN (ID: 353497)\n",
      " Inserido: LIG4 (ID: 3981)\n",
      " Inserido: TDG (ID: 6996)\n",
      " Inserido: POLK (ID: 51426)\n",
      " Inserido: POLH (ID: 5429)\n",
      " Inserido: TOP1 (ID: 7150)\n",
      " Inserido: POLQ (ID: 10721)\n",
      " Inserido: POLI (ID: 11201)\n",
      " Inserido: HELB (ID: 92797)\n",
      " Inserido: UNG (ID: 7374)\n",
      " Inserido: POLM (ID: 27434)\n"
     ]
    }
   ],
   "source": [
    "# Função para obter o próximo geneNID\n",
    "def get_next_geneNID():\n",
    "    cursor.execute(\"SELECT ISNULL(MAX(geneNID), 0) + 1 FROM geneAttributes\")\n",
    "    return cursor.fetchone()[0]\n",
    "\n",
    "# Inserção de cada gene\n",
    "for gene_id in gene_ids:\n",
    "    url = f\"https://mygene.info/v3/gene/{gene_id}\"\n",
    "    response = requests.get(url)\n",
    "\n",
    "    if response.status_code == 200:\n",
    "        data = response.json()\n",
    "\n",
    "        geneNID = get_next_geneNID()\n",
    "        geneId = data.get('_id')\n",
    "        geneName = data.get('symbol', 'N/A')\n",
    "        geneDescription = (data.get('summary') or data.get('name', 'N/A'))[:255]\n",
    "        pLI = data.get('pLI', None)\n",
    "\n",
    "        try:\n",
    "            cursor.execute(\"\"\"\n",
    "                INSERT INTO dbo.geneAttributes (geneNID, geneId, geneName, geneDescription, pLI)\n",
    "                VALUES (?, ?, ?, ?, ?)\n",
    "            \"\"\", (geneNID, geneId, geneName, geneDescription, pLI))\n",
    "            conn.commit()\n",
    "            print(f\" Inserido: {geneName} (ID: {geneId})\")\n",
    "        except Exception as e:\n",
    "            print(f\" Erro ao inserir gene {geneId}: {e}\")\n",
    "    else:\n",
    "        print(f\" Erro ao obter gene {gene_id} (status {response.status_code})\")"
   ]
  },
  {
   "cell_type": "code",
   "execution_count": 24,
   "id": "09b52d57",
   "metadata": {},
   "outputs": [],
   "source": [
    "# Fechar conexão\n",
    "conn.close()"
   ]
  }
 ],
 "metadata": {
  "kernelspec": {
   "display_name": "rafael_MCDCS",
   "language": "python",
   "name": "python3"
  },
  "language_info": {
   "codemirror_mode": {
    "name": "ipython",
    "version": 3
   },
   "file_extension": ".py",
   "mimetype": "text/x-python",
   "name": "python",
   "nbconvert_exporter": "python",
   "pygments_lexer": "ipython3",
   "version": "3.11.11"
  }
 },
 "nbformat": 4,
 "nbformat_minor": 5
}
